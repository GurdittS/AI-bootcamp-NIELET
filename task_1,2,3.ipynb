{
  "nbformat": 4,
  "nbformat_minor": 0,
  "metadata": {
    "colab": {
      "provenance": []
    },
    "kernelspec": {
      "name": "python3",
      "display_name": "Python 3"
    },
    "language_info": {
      "name": "python"
    }
  },
  "cells": [
    {
      "cell_type": "code",
      "execution_count": null,
      "metadata": {
        "colab": {
          "base_uri": "https://localhost:8080/"
        },
        "id": "K5i3e9Flh-3u",
        "outputId": "a62df111-3000-42da-d2f1-1f65462f9ee1"
      },
      "outputs": [
        {
          "output_type": "stream",
          "name": "stdout",
          "text": [
            "hello world\n"
          ]
        }
      ],
      "source": [
        "print(\"hello world\")\n",
        "# hey!, how are you"
      ]
    },
    {
      "cell_type": "code",
      "source": [
        "a= int(input(\"enter first number :\"))\n",
        "b = int(input(\"enter second number: \"))\n",
        "sum = a+b\n",
        "print(sum)"
      ],
      "metadata": {
        "colab": {
          "base_uri": "https://localhost:8080/"
        },
        "id": "akXtsyEaitUo",
        "outputId": "fd35844e-a50e-4d41-ef8e-f81d5fedfd8b"
      },
      "execution_count": null,
      "outputs": [
        {
          "output_type": "stream",
          "name": "stdout",
          "text": [
            "enter first number :8\n",
            "enter second number: 4\n",
            "12\n"
          ]
        }
      ]
    },
    {
      "cell_type": "code",
      "source": [
        "c=int(input(\"enter first number :\"))\n",
        "d=int(input(\"enter second number :\"))\n",
        "prod = c*d\n",
        "print(prod)"
      ],
      "metadata": {
        "colab": {
          "base_uri": "https://localhost:8080/"
        },
        "id": "FtZ-_StLitGo",
        "outputId": "78457b35-909a-4a12-b64e-5806eda262de"
      },
      "execution_count": null,
      "outputs": [
        {
          "output_type": "stream",
          "name": "stdout",
          "text": [
            "enter first number :8\n",
            "enter second number :9\n",
            "72\n"
          ]
        }
      ]
    }
  ]
}